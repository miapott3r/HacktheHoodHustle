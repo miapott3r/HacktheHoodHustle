{
  "nbformat": 4,
  "nbformat_minor": 0,
  "metadata": {
    "colab": {
      "provenance": [],
      "authorship_tag": "ABX9TyMiXrIsykNYW7zA6Z3jUmB1",
      "include_colab_link": true
    },
    "kernelspec": {
      "name": "python3",
      "display_name": "Python 3"
    },
    "language_info": {
      "name": "python"
    }
  },
  "cells": [
    {
      "cell_type": "markdown",
      "metadata": {
        "id": "view-in-github",
        "colab_type": "text"
      },
      "source": [
        "<a href=\"https://colab.research.google.com/github/miapott3r/HacktheHoodHustle/blob/main/Miaya_Tiger_Team_Red.ipynb\" target=\"_parent\"><img src=\"https://colab.research.google.com/assets/colab-badge.svg\" alt=\"Open In Colab\"/></a>"
      ]
    },
    {
      "cell_type": "code",
      "execution_count": null,
      "metadata": {
        "id": "aZZ3nXAx6u6V"
      },
      "outputs": [],
      "source": [
        "## Miaya Potter, Tiger Team 1-3 Red Tues:\n",
        "## My instuctors are Jazz and Yoline\n",
        "\n",
        "## Github profile: https://github.com/miapott3r"
      ]
    }
  ]
}